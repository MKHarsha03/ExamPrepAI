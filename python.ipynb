{
 "cells": [
  {
   "cell_type": "code",
   "execution_count": 4,
   "metadata": {},
   "outputs": [],
   "source": [
    "from dotenv import load_dotenv\n",
    "import os\n",
    "from groq import Groq\n",
    "from langchain_huggingface import HuggingFaceEmbeddings\n",
    "\n",
    "load_dotenv()\n",
    "\n",
    "api_key=os.getenv(\".env\")\n",
    "#os.environ['GROQ_API_KEY']=getpass.getpass(api_key)\n"
   ]
  },
  {
   "cell_type": "code",
   "execution_count": null,
   "metadata": {},
   "outputs": [],
   "source": [
    "from langchain_community.document_loaders import PyPDFLoader\n",
    "\n",
    "file_path=r\"C:\\Users\\khmam\\Desktop\\ExamPrepAI\\test_textbook\\Compilers Principles, Techniques, & Tools 2nd Ed.pdf\"\n",
    "loader=PyPDFLoader(file_path)\n",
    "\n",
    "docs=loader.load()\n",
    "print(len(docs))"
   ]
  },
  {
   "cell_type": "code",
   "execution_count": null,
   "metadata": {},
   "outputs": [],
   "source": [
    "embeddings = HuggingFaceEmbeddings(\n",
    "        model_name='sentence-transformers/all-MiniLM-L6-v2',\n",
    "        model_kwargs={'device': 'gpu'}\n",
    "    )"
   ]
  },
  {
   "cell_type": "code",
   "execution_count": null,
   "metadata": {},
   "outputs": [],
   "source": [
    "from langchain_text_splitters import RecursiveCharacterTextSplitter\n",
    "text_splitter=RecursiveCharacterTextSplitter(\n",
    "    chunk_size=1000,chunk_overlap=200,add_start_index=True\n",
    ")\n",
    "all_splits=text_splitter.split_documents(docs)\n",
    "len(all_splits)"
   ]
  },
  {
   "cell_type": "code",
   "execution_count": 12,
   "metadata": {},
   "outputs": [],
   "source": [
    "from langchain_core.vectorstores import InMemoryVectorStore\n",
    "vector_store=InMemoryVectorStore(embeddings)\n",
    "ids=vector_store.add_documents(documents=all_splits)"
   ]
  },
  {
   "cell_type": "code",
   "execution_count": null,
   "metadata": {},
   "outputs": [],
   "source": [
    "query=\"Explain in detail lexical analyser.\"\n",
    "results=vector_store.similarity_search(query)\n",
    "results[0].page_content"
   ]
  },
  {
   "cell_type": "code",
   "execution_count": null,
   "metadata": {},
   "outputs": [],
   "source": [
    "client = Groq(api_key=api_key)\n",
    "completion = client.chat.completions.create(\n",
    "    messages=[\n",
    "        {'role':'system','content':'''Answer the questions from the prompt and the context given by the user. If the answer is not\n",
    "         found, reply \"Cannot provide answer\", don't give any additional explanation about the question.Give the answer with proper headings,subheadings and bullet points if it is a long answer.\n",
    "         You have to help the user understand the answer to the question and format it for notes making.Do not give answers from outside provided context'''},\n",
    "         {'role':'user','content':f\"Context:{results[:5]},Question:{query}\"}\n",
    "    ],\n",
    "    model=\"llama3-8b-8192\",\n",
    ")\n",
    "print(completion.choices[0].message.content)"
   ]
  },
  {
   "cell_type": "code",
   "execution_count": null,
   "metadata": {},
   "outputs": [],
   "source": []
  }
 ],
 "metadata": {
  "kernelspec": {
   "display_name": ".venv",
   "language": "python",
   "name": "python3"
  },
  "language_info": {
   "codemirror_mode": {
    "name": "ipython",
    "version": 3
   },
   "file_extension": ".py",
   "mimetype": "text/x-python",
   "name": "python",
   "nbconvert_exporter": "python",
   "pygments_lexer": "ipython3",
   "version": "3.10.11"
  }
 },
 "nbformat": 4,
 "nbformat_minor": 2
}
