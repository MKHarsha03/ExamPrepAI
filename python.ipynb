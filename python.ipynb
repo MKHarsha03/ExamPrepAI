{
 "cells": [
  {
   "cell_type": "code",
   "execution_count": 33,
   "metadata": {},
   "outputs": [],
   "source": [
    "from dotenv import load_dotenv\n",
    "import os\n",
    "from groq import Groq\n",
    "\n",
    "load_dotenv()\n",
    "\n",
    "api_key=os.getenv(\".env\")\n",
    "#os.environ['GROQ_API_KEY']=getpass.getpass(api_key)\n"
   ]
  },
  {
   "cell_type": "code",
   "execution_count": 34,
   "metadata": {},
   "outputs": [
    {
     "name": "stdout",
     "output_type": "stream",
     "text": [
      "[Document(metadata={'source': 'C:\\\\Users\\\\khmam\\\\Desktop\\\\temp_storage\\\\KH_CV.pdf', 'page': 0}, page_content='KRISHNA HARSHA MAMILLAPALLI\\nB.Tech CSE Student, National Institute of Technology, Calicut\\nkh.mamillapalli@gmail.com\\n \\n8977942449\\n \\nHyderabad\\n \\n7th November 2003\\n \\nlinkedin.com/in/krishna-harsha-m-443405260\\n \\ngithub.com/MKHarsha03\\n \\nPROFILE\\nI am a National Institute of Technology, Calicut student pursuing my B .tech degree in Computer Science \\nand Engineering. I am eager to contribute my skills and learn from experienced professionals during an \\ninternship or job opportunity. My background includes coursework in data structures and algorithms, \\nmachine learning and deep learning algorithms and techniques, and application development. I thrive in \\ncollaborative environments and am excited to apply my knowledge to real-world projects.\\n•App Development: Proficient in building mobile applications using Flutter and Android Studio\\n•Machine Learning and Deep Learning: Enthusiastic about leveraging ML techniques for data analysis, \\npredictive modeling, and Natural Language Processing(NLP)\\nEDUCATION\\n11/2022 – present\\nKozhikode, India\\nComputer Science and Engineering\\nNational Institute of Technology, Calicut\\nCGPA: 7.57\\n2020 – 2022\\nHyderabad, India\\nIntermediate\\nDeeksha Junior College\\n•IPE Percentage: 96.3%\\n•JEE Mains Rank: 48,109\\nSKILLS\\nProgramming Languages\\nPython, Java, JavaScript and C\\nApplication Development\\nFlutter, Flask, FireBase\\nDeep Learning Frameworks\\nTensorflow and PyTorch\\nWeb Development\\nHTML, CSS, JavaScript, Flask \\nand ReactJS\\nData Visualization\\nMatplotlib and Seaborn\\nPROFESSIONAL EXPERIENCE\\n07/2024 – present GnyanAI\\nApplication Developer Intern\\n•Developing an application for Identity verification\\n•I am currently working on user authentication. I am using Flutter for the user \\ninterface and Firebase for the database\\nPROJECTS\\n01/2025 – present ExamPrepAI\\nCreating a web application, where students can upload PDFs of their course \\ntextbooks and ask questions related to it thus making it easy to create notes for \\nexamination.\\nTechnologies used: Flutter, Flask, LangChain, Groq(LLama3.2)'), Document(metadata={'source': 'C:\\\\Users\\\\khmam\\\\Desktop\\\\temp_storage\\\\KH_CV.pdf', 'page': 1}, page_content='Programming Languages: Dart, Python\\n01/2025 – present Model Implementations\\nI have created a repository where one can view codes of ML algorithms either \\nwritten from scratch using numpy or using API calls to the model using the sci-kit \\nlearn library or PyTorch.')]\n"
     ]
    }
   ],
   "source": [
    "from langchain_community.document_loaders import PyPDFLoader\n",
    "\n",
    "file_path=r\"C:\\Users\\khmam\\Desktop\\temp_storage\\KH_CV.pdf\"\n",
    "loader=PyPDFLoader(file_path)\n",
    "\n",
    "docs=loader.load()\n",
    "print(docs)"
   ]
  },
  {
   "cell_type": "code",
   "execution_count": 35,
   "metadata": {},
   "outputs": [],
   "source": [
    "from langchain_ollama import OllamaEmbeddings\n",
    "\n",
    "embeddings=OllamaEmbeddings(model=\"llama3.2\")"
   ]
  },
  {
   "cell_type": "code",
   "execution_count": 36,
   "metadata": {},
   "outputs": [
    {
     "data": {
      "text/plain": [
       "4"
      ]
     },
     "execution_count": 36,
     "metadata": {},
     "output_type": "execute_result"
    }
   ],
   "source": [
    "from langchain_text_splitters import RecursiveCharacterTextSplitter\n",
    "text_splitter=RecursiveCharacterTextSplitter(\n",
    "    chunk_size=1000,chunk_overlap=200,add_start_index=True\n",
    ")\n",
    "all_splits=text_splitter.split_documents(docs)\n",
    "len(all_splits)"
   ]
  },
  {
   "cell_type": "code",
   "execution_count": 37,
   "metadata": {},
   "outputs": [],
   "source": [
    "from langchain_core.vectorstores import InMemoryVectorStore\n",
    "vector_store=InMemoryVectorStore(embeddings)\n",
    "ids=vector_store.add_documents(documents=all_splits)"
   ]
  },
  {
   "cell_type": "code",
   "execution_count": 38,
   "metadata": {},
   "outputs": [
    {
     "name": "stdout",
     "output_type": "stream",
     "text": [
      "page_content='•Machine Learning and Deep Learning: Enthusiastic about leveraging ML techniques for data analysis, \n",
      "predictive modeling, and Natural Language Processing(NLP)\n",
      "EDUCATION\n",
      "11/2022 – present\n",
      "Kozhikode, India\n",
      "Computer Science and Engineering\n",
      "National Institute of Technology, Calicut\n",
      "CGPA: 7.57\n",
      "2020 – 2022\n",
      "Hyderabad, India\n",
      "Intermediate\n",
      "Deeksha Junior College\n",
      "•IPE Percentage: 96.3%\n",
      "•JEE Mains Rank: 48,109\n",
      "SKILLS\n",
      "Programming Languages\n",
      "Python, Java, JavaScript and C\n",
      "Application Development\n",
      "Flutter, Flask, FireBase\n",
      "Deep Learning Frameworks\n",
      "Tensorflow and PyTorch\n",
      "Web Development\n",
      "HTML, CSS, JavaScript, Flask \n",
      "and ReactJS\n",
      "Data Visualization\n",
      "Matplotlib and Seaborn\n",
      "PROFESSIONAL EXPERIENCE\n",
      "07/2024 – present GnyanAI\n",
      "Application Developer Intern\n",
      "•Developing an application for Identity verification\n",
      "•I am currently working on user authentication. I am using Flutter for the user \n",
      "interface and Firebase for the database\n",
      "PROJECTS\n",
      "01/2025 – present ExamPrepAI' metadata={'source': 'C:\\\\Users\\\\khmam\\\\Desktop\\\\temp_storage\\\\KH_CV.pdf', 'page': 0, 'start_index': 836}\n"
     ]
    }
   ],
   "source": [
    "query=\"What is Krishna Harsha Mamillapalli's CGPA?\"\n",
    "results=vector_store.similarity_search(query)\n",
    "print(results[3])"
   ]
  },
  {
   "cell_type": "code",
   "execution_count": 39,
   "metadata": {},
   "outputs": [
    {
     "name": "stdout",
     "output_type": "stream",
     "text": [
      "**CGPA**\n",
      "===============\n",
      "\n",
      "Krishna Harsha Mamillapalli's CGPA is 7.57.\n"
     ]
    }
   ],
   "source": [
    "client = Groq(api_key=api_key)\n",
    "completion = client.chat.completions.create(\n",
    "    messages=[\n",
    "        {'role':'system','content':'''Answer the questions from the prompt and the context given by the user. If the answer is not\n",
    "         found, reply \"Cannot provide answer\", don't give any additional explanation about the question.Give the answer with proper headings,subheadings and bullet points if it is a long answer.\n",
    "         You have to help the user understand the answer to the question and format it for notes making.Do not give answers from outside provided context'''},\n",
    "         {'role':'user','content':f\"Context:{results[:5]},Question:{query}\"}\n",
    "    ],\n",
    "    model=\"llama3-8b-8192\",\n",
    ")\n",
    "print(completion.choices[0].message.content)"
   ]
  },
  {
   "cell_type": "code",
   "execution_count": null,
   "metadata": {},
   "outputs": [],
   "source": []
  }
 ],
 "metadata": {
  "kernelspec": {
   "display_name": ".venv",
   "language": "python",
   "name": "python3"
  },
  "language_info": {
   "codemirror_mode": {
    "name": "ipython",
    "version": 3
   },
   "file_extension": ".py",
   "mimetype": "text/x-python",
   "name": "python",
   "nbconvert_exporter": "python",
   "pygments_lexer": "ipython3",
   "version": "3.10.11"
  }
 },
 "nbformat": 4,
 "nbformat_minor": 2
}
