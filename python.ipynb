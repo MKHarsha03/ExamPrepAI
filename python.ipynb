{
 "cells": [
  {
   "cell_type": "code",
   "execution_count": 1,
   "metadata": {},
   "outputs": [],
   "source": [
    "from dotenv import load_dotenv\n",
    "import os\n",
    "from groq import Groq\n",
    "\n",
    "load_dotenv()\n",
    "\n",
    "api_key=os.getenv(\".env\")\n",
    "#os.environ['GROQ_API_KEY']=getpass.getpass(api_key)\n"
   ]
  },
  {
   "cell_type": "code",
   "execution_count": 2,
   "metadata": {},
   "outputs": [
    {
     "name": "stdout",
     "output_type": "stream",
     "text": [
      "947\n"
     ]
    }
   ],
   "source": [
    "from langchain_community.document_loaders import PyPDFLoader\n",
    "\n",
    "file_path=\"./test_textbook/Compilers Principles, Techniques, & Tools 2nd Ed.pdf\"\n",
    "loader=PyPDFLoader(file_path)\n",
    "\n",
    "docs=loader.load()\n",
    "print(len(docs))"
   ]
  },
  {
   "cell_type": "code",
   "execution_count": 3,
   "metadata": {},
   "outputs": [],
   "source": [
    "from langchain_ollama import OllamaEmbeddings\n",
    "\n",
    "embeddings=OllamaEmbeddings(model=\"llama3.2\")"
   ]
  },
  {
   "cell_type": "code",
   "execution_count": 4,
   "metadata": {},
   "outputs": [
    {
     "data": {
      "text/plain": [
       "3201"
      ]
     },
     "execution_count": 4,
     "metadata": {},
     "output_type": "execute_result"
    }
   ],
   "source": [
    "from langchain_text_splitters import RecursiveCharacterTextSplitter\n",
    "text_splitter=RecursiveCharacterTextSplitter(\n",
    "    chunk_size=1000,chunk_overlap=200,add_start_index=True\n",
    ")\n",
    "all_splits=text_splitter.split_documents(docs)\n",
    "len(all_splits)"
   ]
  },
  {
   "cell_type": "code",
   "execution_count": 5,
   "metadata": {},
   "outputs": [],
   "source": [
    "from langchain_core.vectorstores import InMemoryVectorStore\n",
    "vector_store=InMemoryVectorStore(embeddings)\n",
    "ids=vector_store.add_documents(documents=all_splits)"
   ]
  },
  {
   "cell_type": "code",
   "execution_count": 8,
   "metadata": {},
   "outputs": [
    {
     "name": "stdout",
     "output_type": "stream",
     "text": [
      "page_content='/1/./7/. SUMMAR Y OF CHAPTER /1\n",
      "F Machine and Assembly L anguages /. Mac hine languages w ere the /#0Crst/-\n",
      "generation programming languages/, follo w ed b y assem bly languages/. Pro/-\n",
      "gramming in these languages w as time consuming and error prone/.\n",
      "F Mo deling in Compiler Design /. Compiler design is one of the places where\n",
      "theory has had the most impact on practice/. Mo dels that ha v e b een found\n",
      "useful include automata/, grammars/, regular expressions/, trees/, and man y\n",
      "others/.\n",
      "F Co de Optimization /. Although co de cannot truly b e /#5Coptimized/,/\" the sci/-\n",
      "ence of impro ving the e/#0Eciency of co de is b oth complex and v ery imp or/-\n",
      "tan t/. It is a ma jor p ortion of the study of compilation/.\n",
      "F Higher/-L evel L anguages /. As time go es on/, programming languages tak e\n",
      "on progressiv ely more of the tasks that formerly w ere left to the program/-\n",
      "mer/, suc h as memory managemen t/, t yp e/-consistency c hec king/, or parallel\n",
      "execution of co de/.' metadata={'source': './test_textbook/Compilers Principles, Techniques, & Tools 2nd Ed.pdf', 'page': 41, 'start_index': 0}\n"
     ]
    }
   ],
   "source": [
    "query=\"What are the tools required to build a compiler?\"\n",
    "results=vector_store.similarity_search(query)\n",
    "print(results[0])"
   ]
  },
  {
   "cell_type": "code",
   "execution_count": 7,
   "metadata": {},
   "outputs": [
    {
     "name": "stdout",
     "output_type": "stream",
     "text": [
      "**Tools Required to Build a Compiler**\n",
      "\n",
      "There is no specific mention of tools required to build a compiler in the provided context. However, the chapter provides an overview of the importance of compiler design, modeling, and code optimization in the field of programming languages.\n",
      "\n",
      "**Possible Related Concepts**\n",
      "\n",
      "* Topics: Compiler Design, Programming Languages, Modeling, Code Optimization\n",
      "* Key points:\n",
      "\t+ Compiler design is a key component of programming languages\n",
      "\t+ Modeling is crucial in compiler design (automata, grammars, regular expressions, trees, etc.)\n",
      "\t+ Code optimization is a major aspect of compiler design\n",
      "\t+ Higher-level languages are becoming more common, with increased functionality for programmers\n",
      "\n",
      "Cannot provide a direct answer to the question, as the provided context does not mention specific tools required to build a compiler.\n"
     ]
    }
   ],
   "source": [
    "client = Groq(api_key=api_key)\n",
    "completion = client.chat.completions.create(\n",
    "    messages=[\n",
    "        {'role':'system','content':'''Answer the questions from the prompt and the context given by the user. If the answer is not\n",
    "         found, reply \"Cannot provide answer\", don't give any additional explanation about the question.Give the answer with proper headings,subheadings and bullet points if it is a long answer.\n",
    "         You have to help the user understand the answer to the question and format it for notes making.Do not give answers from outside provided context'''},\n",
    "         {'role':'user','content':f\"Context:{results[0]},Question:{query}\"}\n",
    "    ],\n",
    "    model=\"llama3-8b-8192\",\n",
    ")\n",
    "print(completion.choices[0].message.content)"
   ]
  },
  {
   "cell_type": "code",
   "execution_count": null,
   "metadata": {},
   "outputs": [],
   "source": []
  }
 ],
 "metadata": {
  "kernelspec": {
   "display_name": ".venv",
   "language": "python",
   "name": "python3"
  },
  "language_info": {
   "codemirror_mode": {
    "name": "ipython",
    "version": 3
   },
   "file_extension": ".py",
   "mimetype": "text/x-python",
   "name": "python",
   "nbconvert_exporter": "python",
   "pygments_lexer": "ipython3",
   "version": "3.10.11"
  }
 },
 "nbformat": 4,
 "nbformat_minor": 2
}
